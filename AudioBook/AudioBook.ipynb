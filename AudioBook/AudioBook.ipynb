{
 "cells": [
  {
   "cell_type": "markdown",
   "id": "846ea02f",
   "metadata": {},
   "source": [
    "# Extract The Data From The CSV"
   ]
  },
  {
   "cell_type": "code",
   "execution_count": 1,
   "id": "83df27ee",
   "metadata": {},
   "outputs": [],
   "source": [
    "import numpy as np\n",
    "from sklearn import preprocessing\n",
    "\n",
    "raw_csv_data=np.loadtxt('AudioBookS-data.csv',delimiter=',')\n",
    "unscaled_inputs_all=raw_csv_data[:1:-1]\n",
    "targets_all=raw_csv_data[:,-1]"
   ]
  },
  {
   "cell_type": "markdown",
   "id": "cc03d59f",
   "metadata": {},
   "source": [
    "## Balance The Dataset"
   ]
  },
  {
   "cell_type": "code",
   "execution_count": 2,
   "id": "f6884ff1",
   "metadata": {},
   "outputs": [],
   "source": [
    "num_one_targets=int(np.sum(targets_all))"
   ]
  },
  {
   "cell_type": "code",
   "execution_count": 3,
   "id": "5439db8d",
   "metadata": {},
   "outputs": [],
   "source": [
    "zero_targets_counter=0\n",
    "indices_to_remove=[]\n",
    "for i in range(targets_all.shape[0]):\n",
    "    if targets_all[i]==0:\n",
    "        zero_targets_counter+=1\n",
    "        if zero_targets_counter>num_one_targets:\n",
    "            indices_to_remove.append(i-1)\n",
    "unscaled_inputs_equal_priors=np.delete(unscaled_inputs_all,indices_to_remove,axis=0) \n",
    "targets_equal_priors=np.delete(targets_all,indices_to_remove,axis=0)"
   ]
  },
  {
   "cell_type": "markdown",
   "id": "24ac78cb",
   "metadata": {},
   "source": [
    "## Standardize The Inputs"
   ]
  },
  {
   "cell_type": "code",
   "execution_count": 4,
   "id": "781a0673",
   "metadata": {},
   "outputs": [],
   "source": [
    "scaled_inputs=preprocessing.scale(unscaled_inputs_equal_priors)"
   ]
  },
  {
   "cell_type": "markdown",
   "id": "64c6302c",
   "metadata": {},
   "source": [
    "## Shuffle The Data"
   ]
  },
  {
   "cell_type": "code",
   "execution_count": 5,
   "id": "c7cce6d5",
   "metadata": {},
   "outputs": [],
   "source": [
    "shuffle_indices=np.arange(scaled_inputs.shape[0])\n",
    "np.random.shuffle(shuffle_indices)\n",
    "shuffled_inputs=scaled_inputs[shuffle_indices]\n",
    "shuffled_targets=targets_equal_priors[shuffle_indices]"
   ]
  },
  {
   "cell_type": "markdown",
   "id": "e5d0b9c8",
   "metadata": {},
   "source": [
    "## Split The Dataset Into Train Test And Validation"
   ]
  },
  {
   "cell_type": "code",
   "execution_count": 6,
   "id": "81010685",
   "metadata": {},
   "outputs": [],
   "source": [
    "samples_count=shuffled_inputs.shape[0]\n",
    "train_samples_count=int(0.8*samples_count)"
   ]
  },
  {
   "cell_type": "code",
   "execution_count": 7,
   "id": "6b8cca1e",
   "metadata": {},
   "outputs": [],
   "source": [
    "\n",
    "validation_samples_count=int(0.1*samples_count)\n",
    "test_samples_count=samples_count-train_samples_count-validation_samples_count\n",
    "train_inputs=shuffled_inputs[:train_samples_count]\n",
    "train_targets=shuffled_targets[:train_samples_count]\n",
    "\n",
    "\n",
    "validation_inputs=shuffled_inputs[train_samples_count:train_samples_count+validation_samples_count]\n",
    "validation_targets=shuffled_targets[train_samples_count:train_samples_count+validation_samples_count]\n",
    "\n",
    "\n",
    "test_inputs=shuffled_inputs[train_samples_count+validation_samples_count:]\n",
    "test_targets=shuffled_targets[train_samples_count+validation_samples_count:]"
   ]
  },
  {
   "cell_type": "markdown",
   "id": "7aa67a60",
   "metadata": {},
   "source": [
    "## Save As Npz"
   ]
  },
  {
   "cell_type": "code",
   "execution_count": 8,
   "id": "9492b612",
   "metadata": {},
   "outputs": [],
   "source": [
    "np.savez('Audiobooks_data_train',inputs=train_inputs,targets=train_targets)\n",
    "np.savez('Audiobooks_data_validation',inputs=validation_inputs,targets=validation_targets)\n",
    "np.savez('Audiobooks_data_test',inputs=test_inputs,targets=test_targets)"
   ]
  },
  {
   "cell_type": "code",
   "execution_count": null,
   "id": "216f2858",
   "metadata": {},
   "outputs": [],
   "source": []
  },
  {
   "cell_type": "markdown",
   "id": "9b3dddc6",
   "metadata": {},
   "source": []
  },
  {
   "cell_type": "code",
   "execution_count": null,
   "id": "1ca7f148",
   "metadata": {},
   "outputs": [],
   "source": []
  },
  {
   "cell_type": "code",
   "execution_count": null,
   "id": "0caa3038",
   "metadata": {},
   "outputs": [],
   "source": []
  }
 ],
 "metadata": {
  "kernelspec": {
   "display_name": "Python 3 (ipykernel)",
   "language": "python",
   "name": "python3"
  },
  "language_info": {
   "codemirror_mode": {
    "name": "ipython",
    "version": 3
   },
   "file_extension": ".py",
   "mimetype": "text/x-python",
   "name": "python",
   "nbconvert_exporter": "python",
   "pygments_lexer": "ipython3",
   "version": "3.10.1"
  }
 },
 "nbformat": 4,
 "nbformat_minor": 5
}
