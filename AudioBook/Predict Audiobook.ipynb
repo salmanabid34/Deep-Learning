{
 "cells": [
  {
   "cell_type": "markdown",
   "id": "3df58226",
   "metadata": {},
   "source": [
    "## Create The Machine Learning Algorithm"
   ]
  },
  {
   "cell_type": "markdown",
   "id": "6fdd4326",
   "metadata": {},
   "source": [
    "### Import The Relevent Libraries"
   ]
  },
  {
   "cell_type": "code",
   "execution_count": 1,
   "id": "32484bd1",
   "metadata": {},
   "outputs": [],
   "source": [
    "import numpy as np\n",
    "import tensorflow as tf"
   ]
  },
  {
   "cell_type": "markdown",
   "id": "abded345",
   "metadata": {},
   "source": [
    "### Data "
   ]
  },
  {
   "cell_type": "code",
   "execution_count": 2,
   "id": "abb855d0",
   "metadata": {},
   "outputs": [],
   "source": [
    "npz=np.load('Audiobooks_data_train.npz')\n",
    "train_inputs=npz['inputs'].astype(np.float64)\n",
    "train_targets=npz['targets'].astype(np.int64)\n",
    "\n",
    "npz=np.load('Audiobooks_data_validation.npz')\n",
    "validation_inputs=npz['inputs'].astype(np.float64)\n",
    "validation_targets=npz['targets'].astype(np.int64)\n",
    "\n",
    "\n",
    "npz=np.load('Audiobooks_data_validation.npz')\n",
    "test_inputs=npz['inputs'].astype(np.float64)\n",
    "test_targets=npz['targets'].astype(np.int64)"
   ]
  },
  {
   "cell_type": "markdown",
   "id": "e3b6ac68",
   "metadata": {},
   "source": [
    "## Model "
   ]
  },
  {
   "cell_type": "code",
   "execution_count": 3,
   "id": "7154850b",
   "metadata": {},
   "outputs": [],
   "source": [
    "input_size=10\n",
    "output_size=2\n",
    "hidden_layer_size=50\n"
   ]
  },
  {
   "cell_type": "code",
   "execution_count": 4,
   "id": "f26d7bf9",
   "metadata": {},
   "outputs": [],
   "source": [
    "model=tf.keras.Sequential([\n",
    "    tf.keras.layers.Dense(hidden_layer_size,activation='relu'),\n",
    "    tf.keras.layers.Dense(hidden_layer_size,activation='relu'),\n",
    "    tf.keras.layers.Dense(output_size,activation='softmax')\n",
    "])"
   ]
  },
  {
   "cell_type": "code",
   "execution_count": 5,
   "id": "7cf43a95",
   "metadata": {},
   "outputs": [],
   "source": [
    "model.compile(optimizer='adam',loss='sparse_categorical_crossentropy',metrics=['accuracy'])"
   ]
  },
  {
   "cell_type": "code",
   "execution_count": 12,
   "id": "7f87e7c8",
   "metadata": {},
   "outputs": [
    {
     "name": "stdout",
     "output_type": "stream",
     "text": [
      "Epoch 1/100\n",
      "36/36 - 0s - loss: 0.4227 - accuracy: 0.8236 - val_loss: 0.5540 - val_accuracy: 0.7897 - 66ms/epoch - 2ms/step\n",
      "Epoch 2/100\n",
      "36/36 - 0s - loss: 0.4205 - accuracy: 0.8214 - val_loss: 0.5525 - val_accuracy: 0.8009 - 59ms/epoch - 2ms/step\n",
      "Epoch 3/100\n",
      "36/36 - 0s - loss: 0.4200 - accuracy: 0.8239 - val_loss: 0.5460 - val_accuracy: 0.7875 - 63ms/epoch - 2ms/step\n",
      "Epoch 4/100\n",
      "36/36 - 0s - loss: 0.4205 - accuracy: 0.8228 - val_loss: 0.5518 - val_accuracy: 0.7919 - 62ms/epoch - 2ms/step\n",
      "Epoch 5/100\n",
      "36/36 - 0s - loss: 0.4184 - accuracy: 0.8225 - val_loss: 0.5482 - val_accuracy: 0.8009 - 47ms/epoch - 1ms/step\n",
      "Epoch 6/100\n",
      "36/36 - 0s - loss: 0.4195 - accuracy: 0.8216 - val_loss: 0.5515 - val_accuracy: 0.7942 - 69ms/epoch - 2ms/step\n"
     ]
    },
    {
     "data": {
      "text/plain": [
       "<keras.callbacks.History at 0x121704157e0>"
      ]
     },
     "execution_count": 12,
     "metadata": {},
     "output_type": "execute_result"
    }
   ],
   "source": [
    "batch_size=100\n",
    "max_epoch=100\n",
    "early_stopping=tf.keras.callbacks.EarlyStopping(patience=3)\n",
    "model.fit(train_inputs,train_targets,\n",
    "          batch_size=batch_size,epochs=max_epoch,\n",
    "          callbacks=[early_stopping],\n",
    "          validation_data=(validation_inputs,validation_targets),verbose=2)"
   ]
  },
  {
   "cell_type": "code",
   "execution_count": null,
   "id": "611f886b",
   "metadata": {},
   "outputs": [],
   "source": []
  }
 ],
 "metadata": {
  "kernelspec": {
   "display_name": "Python 3 (ipykernel)",
   "language": "python",
   "name": "python3"
  },
  "language_info": {
   "codemirror_mode": {
    "name": "ipython",
    "version": 3
   },
   "file_extension": ".py",
   "mimetype": "text/x-python",
   "name": "python",
   "nbconvert_exporter": "python",
   "pygments_lexer": "ipython3",
   "version": "3.10.1"
  }
 },
 "nbformat": 4,
 "nbformat_minor": 5
}
